{
  "nbformat": 4,
  "nbformat_minor": 0,
  "metadata": {
    "colab": {
      "provenance": []
    },
    "kernelspec": {
      "name": "python3",
      "display_name": "Python 3"
    },
    "language_info": {
      "name": "python"
    }
  },
  "cells": [
    {
      "cell_type": "markdown",
      "source": [
        "# **Story**\n",
        "In a rapidly growing city, five major firms are competing to meet the increasing demand for clean energy by producing and installing solar panels. The city government has incentivized solar energy, but there is a limit to how many solar panels can be installed due to space constraints. Each firm must decide how many solar panels to produce and install each year, knowing that the total number of panels produced by all firms will affect the market price.\n",
        "\n",
        "\n",
        "---\n",
        "\n",
        "# **The Players:**\n",
        "* Firm 1: Green Energy Solutions\n",
        "*  Firm 2: SolarTech Innovations\n",
        "*  Firm 3: SunPower Industries\n",
        "*  Firm 4: EcoSolar Corp\n",
        "*  Firm 5: Clean Energy Enterprises\n",
        "\n",
        "\n",
        "\n",
        "---\n",
        "\n",
        "\n",
        "# **The Market Dynamics:**\n",
        "* The demand for solar panels in the city is high, but the price of solar energy depends on the total number of panels installed by all five firms.\n",
        "* The more panels installed, the lower the market price, as the city can only absorb a certain amount of solar energy efficiently.\n",
        "* Each firm wants to produce and install enough panels to maximize its profits, but overproduction by all firms will drive the price down and reduce everyone’s profits.\n",
        "\n",
        "\n",
        "\n",
        "---\n",
        "\n",
        "\n",
        "\n",
        "#**The Decision**\n",
        "\n",
        "\n",
        "Each year, the firms must decide how many solar panels to produce and install. Each firm's goal is to maximize its profit, which depends on two factors:\n",
        "\n",
        "\n",
        "1.   The market price of solar energy, which decreases as the total number of installed panels increases.\n",
        "2.   The cost of producing solar panels, which remains fixed for each firm.\n",
        "\n",
        "\n",
        "\n",
        "---\n",
        "\n",
        "\n",
        "#**The Game**\n",
        "\n",
        "The five firms do not communicate with each other directly, but each one tries to predict how many panels the other firms will produce. The firms understand that their profits depend on the total number of panels produced by all five companies, and they must adjust their production levels accordingly.\n",
        "\n",
        "\n",
        "\n",
        "\n",
        "**Rules**\n",
        "\n",
        "The price of solar energy is determined by the total number of panels installed in the city:\n",
        "\n",
        "𝑃\n",
        "=\n",
        "𝑎\n",
        "−\n",
        "𝑏\n",
        "×\n",
        "𝑄\n",
        "\n",
        "P=a−b×Q\n",
        "\n",
        "where:\n",
        "\n",
        "\n",
        "P is the price of solar energy.\n",
        "\n",
        "Q is the total number of panels installed by all five firms.\n",
        "\n",
        "a is the maximum price that can be charged if no panels are installed.\n",
        "\n",
        "b is a constant that represents how much the price drops as more panels are installed.\n",
        "Each firm's profit is calculated as:\n",
        "\n",
        "Profit\n",
        "𝑖\n",
        "=\n",
        "(\n",
        "𝑃\n",
        "×\n",
        "𝑞\n",
        "𝑖\n",
        ")\n",
        "−\n",
        "(\n",
        "𝑐\n",
        "×\n",
        "𝑞\n",
        "𝑖\n",
        ")\n",
        "\n",
        "Profit\n",
        "i\n",
        "​\n",
        " =(P×q\n",
        "i\n",
        "​\n",
        " )−(c×q\n",
        "i\n",
        "\n",
        "where:\n",
        "\n",
        "qi is the number of panels installed by firm i.\n",
        "\n",
        "\n",
        "---\n",
        "\n",
        "# **Tension and Strategy:**\n",
        "* Too much production: If all firms produce large quantities of panels, the    market will be flooded with solar energy, causing the price to drop drastically. While they can install more panels, the lower price reduces the profit margins.\n",
        "* Too little production: If a firm produces too few panels, it misses out on potential sales and market share, leaving the other firms to dominate the market.\n",
        "\n",
        "Each year, the firms adjust their production quantities based on what they observe from the previous year's market prices and total panel installations.\n",
        "\n",
        "\n",
        "---\n",
        "\n",
        "# **Conclusion**\n",
        "After several years of competition, the firms have reached a stable production level, where they have found a balance between producing enough panels to meet demand and avoiding overproduction that drives down prices. They have reached a Cournot-Nash equilibrium, where no firm can increase its profit by unilaterally changing its production level.\n",
        "\n",
        "This equilibrium shows how competition in a market with quantity-based strategies can stabilize over time, even when each firm is focused on maximizing its own profit.\n"
      ],
      "metadata": {
        "id": "Xj2RnChZgW9J"
      }
    },
    {
      "cell_type": "code",
      "source": [
        "import random\n",
        "import numpy as np\n",
        "import pandas as pd\n",
        "import matplotlib.pyplot as plt\n"
      ],
      "metadata": {
        "id": "cYoqANjnVAVD"
      },
      "execution_count": 61,
      "outputs": []
    },
    {
      "cell_type": "code",
      "source": [
        "#predefined constants\n",
        "a = 500\n",
        "b = 2\n",
        "c = 10\n",
        "num_firms = 5\n",
        "num_rounds = 100"
      ],
      "metadata": {
        "id": "97rDEKuqVR3p"
      },
      "execution_count": 62,
      "outputs": []
    },
    {
      "cell_type": "code",
      "source": [
        "# Initialize DataFrame to store results\n",
        "l1=[]\n",
        "for i in range(num_firms):\n",
        "  l1.append(f'Firm {i+1} Quantity')\n",
        "\n",
        "l2=[]\n",
        "for i in range(num_firms):\n",
        "  l2.append(f'Firm {i+1} Profit')\n",
        "\n",
        "\n",
        "columns = ['Round', 'Total Quantity', 'Price']\n",
        "columns=columns+l1+l2\n",
        "results = pd.DataFrame(columns=columns)"
      ],
      "metadata": {
        "id": "MMyBlpJLYNZF"
      },
      "execution_count": 63,
      "outputs": []
    },
    {
      "cell_type": "code",
      "source": [
        "def best_response(firm_index, quantities):\n",
        "    \"Calculate the best response quantity for a given firm.\"\n",
        "    total_quantity_other_firms = sum(quantities) - quantities[firm_index]\n",
        "    return (a - c - b * total_quantity_other_firms) / (2 * b)\n"
      ],
      "metadata": {
        "id": "X7vyWyYiZw2u"
      },
      "execution_count": 64,
      "outputs": []
    },
    {
      "cell_type": "code",
      "source": [
        "def is_nash_equilibrium(quantities):\n",
        "    \"Check if the current quantities are a Nash equilibrium.\"\n",
        "    for i in range(num_firms):\n",
        "        br = best_response(i, quantities)\n",
        "        if not np.isclose(br, quantities[i], atol=5.0):  # Check if it's close enough to the best response\n",
        "            return False\n",
        "    return True\n",
        "\n"
      ],
      "metadata": {
        "id": "-VQdMaLgbEyk"
      },
      "execution_count": 65,
      "outputs": []
    },
    {
      "cell_type": "code",
      "source": [
        "# List to store rounds with Nash equilibrium\n",
        "nash_equilibrium_rounds = []\n"
      ],
      "metadata": {
        "id": "wXvd6hVLbUyW"
      },
      "execution_count": 66,
      "outputs": []
    },
    {
      "cell_type": "code",
      "source": [
        "# Simulate the game for 100 rounds\n",
        "for round_num in range(1, num_rounds + 1):\n",
        "    # Each firm selects a random quantity (between 1 and 50 panels)\n",
        "    quantities = []\n",
        "    for i in range(num_firms):\n",
        "      x=random.uniform(1, 50)\n",
        "      quantities.append(x)\n",
        "\n",
        "\n",
        "    # Calculate total quantity and price\n",
        "    total_quantity = sum(quantities)\n",
        "    price = a - b * total_quantity\n",
        "\n",
        "    profits = []\n",
        "    for q in quantities:\n",
        "      profit = price * q - c * q\n",
        "      profits.append(profit)\n",
        "\n",
        "    # Check if the current round is a Nash equilibrium\n",
        "    if is_nash_equilibrium(quantities):\n",
        "        nash_equilibrium_rounds.append((round_num, quantities, total_quantity, price, profits))\n",
        "\n",
        "    # Append data to DataFrame\n",
        "    round_data = [round_num] + quantities + [total_quantity, price] + profits\n",
        "    results.loc[len(results)] = round_data\n"
      ],
      "metadata": {
        "id": "37EWnkEZcIBZ"
      },
      "execution_count": 67,
      "outputs": []
    },
    {
      "cell_type": "code",
      "source": [
        "# Display first few rows of the results\n",
        "print(results.head())\n"
      ],
      "metadata": {
        "id": "-RnDH3lccR-t",
        "colab": {
          "base_uri": "https://localhost:8080/"
        },
        "outputId": "5d5e31f3-769a-42d7-b03e-400f0adb4c5d"
      },
      "execution_count": 68,
      "outputs": [
        {
          "output_type": "stream",
          "name": "stdout",
          "text": [
            "   Round  Total Quantity      Price  Firm 1 Quantity  Firm 2 Quantity  \\\n",
            "0    1.0       21.218308  44.696170        42.667672         7.211547   \n",
            "1    2.0        5.195998  41.199851         4.665749        12.760025   \n",
            "2    3.0       43.029571  36.785475        41.311386        41.203270   \n",
            "3    4.0        5.132545  11.284978        18.631432        41.059078   \n",
            "4    5.0       26.424065  44.752857        16.158342         6.442907   \n",
            "\n",
            "   Firm 3 Quantity  Firm 4 Quantity  Firm 5 Quantity  Firm 1 Profit  \\\n",
            "0        48.296583       164.090279       171.819443    3433.534732   \n",
            "1         3.915829        67.737452       364.525096    1842.111782   \n",
            "2        48.993313       211.323015        77.353969    2898.212414   \n",
            "3        40.039512       116.147545       267.704910    1322.682140   \n",
            "4        28.486434       122.264605       255.470789    6486.336058   \n",
            "\n",
            "   Firm 2 Profit  Firm 3 Profit  Firm 4 Profit  Firm 5 Profit  \n",
            "0    7232.709260    6904.458862    1166.968462    7815.326143  \n",
            "1   14606.381005    1654.125133    4523.749262    1388.259485  \n",
            "2    2477.647765    2782.485834    2775.203762    3299.894077  \n",
            "3    2908.194196    4801.411520   10581.125945   10318.378830  \n",
            "4   10985.519061    3966.401074    1581.545465    6992.587522  \n"
          ]
        }
      ]
    },
    {
      "cell_type": "code",
      "source": [
        "# Save results to CSV\n",
        "results.to_csv('cournot_solar_panel_results.csv', index=False)\n"
      ],
      "metadata": {
        "id": "sHCg2qKEdOHG"
      },
      "execution_count": 69,
      "outputs": []
    },
    {
      "cell_type": "code",
      "source": [
        "# Print Nash Equilibrium rounds\n",
        "print(\"\\nRounds where Nash Equilibrium is achieved:\")\n",
        "for round_info in nash_equilibrium_rounds:\n",
        "    round_num, quantities, total_quantity, price, profits = round_info\n",
        "    print(f\"Round {round_num}: Quantities: {quantities}, Total Quantity: {total_quantity}, Price: {price}, Profits: {profits}\")\n"
      ],
      "metadata": {
        "colab": {
          "base_uri": "https://localhost:8080/"
        },
        "id": "8AWMoe0tddNK",
        "outputId": "48d81810-dea9-46a0-ed43-cff71773ce07"
      },
      "execution_count": 70,
      "outputs": [
        {
          "output_type": "stream",
          "name": "stdout",
          "text": [
            "\n",
            "Rounds where Nash Equilibrium is achieved:\n",
            "Round 63: Quantities: [47.5528089436943, 38.002659299033354, 40.64445916241744, 48.88312652768511, 30.50352651944732], Total Quantity: 205.58658045227753, Price: 88.82683909544494, Profits: [3748.437619141026, 2995.6295097639168, 3203.8742425172622, 3853.3023492801103, 2404.4965767921117]\n"
          ]
        }
      ]
    }
  ]
}